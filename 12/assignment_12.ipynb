{
 "cells": [
  {
   "cell_type": "markdown",
   "metadata": {},
   "source": [
    "# Principal Component Analysis"
   ]
  },
  {
   "cell_type": "markdown",
   "metadata": {},
   "source": [
    "## import library"
   ]
  },
  {
   "cell_type": "code",
   "execution_count": 1,
   "metadata": {},
   "outputs": [],
   "source": [
    "import numpy as np\n",
    "import matplotlib.pyplot as plt\n",
    "import matplotlib.colors as colors\n",
    "from matplotlib import cm"
   ]
  },
  {
   "cell_type": "markdown",
   "metadata": {},
   "source": [
    "## load data"
   ]
  },
  {
   "cell_type": "code",
   "execution_count": 2,
   "metadata": {},
   "outputs": [
    {
     "name": "stdout",
     "output_type": "stream",
     "text": [
      "number of data : 50\n",
      "number of feature : 2\n"
     ]
    }
   ],
   "source": [
    "fname_data  = 'assignment_12_data.txt'\n",
    "feature0    = np.genfromtxt(fname_data, delimiter=',')\n",
    "\n",
    "number_data     = np.size(feature0, 0)\n",
    "number_feature  = np.size(feature0, 1)\n",
    "\n",
    "print('number of data : {}'.format(number_data))\n",
    "print('number of feature : {}'.format(number_feature))"
   ]
  },
  {
   "cell_type": "markdown",
   "metadata": {},
   "source": [
    "## plot the input data"
   ]
  },
  {
   "cell_type": "code",
   "execution_count": 3,
   "metadata": {},
   "outputs": [
    {
     "data": {
      "image/png": "[encoded data removed]",
      "text/plain": [
       "<Figure size 576x576 with 1 Axes>"
      ]
     },
     "metadata": {
      "needs_background": "light"
     },
     "output_type": "display_data"
    }
   ],
   "source": [
    "plt.figure(figsize=(8,8))   \n",
    "plt.title('input data')\n",
    "\n",
    "x0 = feature0[:,0]\n",
    "y0 = feature0[:,1]\n",
    "\n",
    "plt.scatter(x0, y0, color='blue')\n",
    "\n",
    "plt.tight_layout()\n",
    "plt.show()"
   ]
  },
  {
   "cell_type": "markdown",
   "metadata": {},
   "source": [
    "## Normalization (Z-scoring)\n",
    "- shape of feature = $n \\times m$ where $n$ is the number of data and $m$ is the dimension of features"
   ]
  },
  {
   "cell_type": "code",
   "execution_count": 6,
   "metadata": {},
   "outputs": [
    {
     "data": {
      "text/plain": [
       "array([3.9892652, 5.002806 ])"
      ]
     },
     "execution_count": 6,
     "metadata": {},
     "output_type": "execute_result"
    }
   ],
   "source": [
    "feature0.mean(axis=0)"
   ]
  },
  {
   "cell_type": "code",
   "execution_count": 7,
   "metadata": {},
   "outputs": [
    {
     "data": {
      "text/plain": [
       "array([1.16126059, 1.01312228])"
      ]
     },
     "execution_count": 7,
     "metadata": {},
     "output_type": "execute_result"
    }
   ],
   "source": [
    "np.std(feature0,axis=0)"
   ]
  },
  {
   "cell_type": "code",
   "execution_count": 11,
   "metadata": {},
   "outputs": [
    {
     "data": {
      "text/plain": [
       "array([[-0.6077052, -1.613696 ],\n",
       "       [ 0.5386148,  0.851374 ],\n",
       "       [-1.3335852, -0.590816 ],\n",
       "       [-1.2240352, -1.287396 ],\n",
       "       [-1.1427052, -0.827296 ],\n",
       "       [-0.0985952,  1.485574 ],\n",
       "       [-0.5134552, -1.369956 ],\n",
       "       [ 1.9220348,  1.677964 ],\n",
       "       [-0.0603752,  0.095644 ],\n",
       "       [ 0.5725748,  0.620494 ],\n",
       "       [ 0.5848048,  0.394844 ],\n",
       "       [ 0.3824648,  0.458364 ],\n",
       "       [ 0.2024248, -0.048116 ],\n",
       "       [ 1.2548248, -0.341316 ],\n",
       "       [-1.1534252, -1.234786 ],\n",
       "       [ 1.6460048,  1.309304 ],\n",
       "       [ 0.6970648,  0.662434 ],\n",
       "       [-1.1387552, -0.376346 ],\n",
       "       [ 1.1208948,  2.360394 ],\n",
       "       [ 1.1932948, -0.356296 ],\n",
       "       [ 1.7180648,  1.678234 ],\n",
       "       [-0.4095852, -0.200026 ],\n",
       "       [ 1.6501148,  1.117634 ],\n",
       "       [ 0.2742048, -0.313376 ],\n",
       "       [-1.4527452, -1.118316 ],\n",
       "       [-0.7654352, -0.060246 ],\n",
       "       [ 0.9402248,  0.952214 ],\n",
       "       [ 1.8036948,  0.105584 ],\n",
       "       [-1.1724152, -0.183846 ],\n",
       "       [-0.1004452,  0.097564 ],\n",
       "       [-0.6460352,  0.890204 ],\n",
       "       [ 1.8904648,  0.518614 ],\n",
       "       [-0.8853452, -1.145706 ],\n",
       "       [ 1.3422448, -0.322066 ],\n",
       "       [-0.6138352, -0.437426 ],\n",
       "       [ 0.7874148,  1.251544 ],\n",
       "       [-1.3135152, -1.271836 ],\n",
       "       [ 1.5110148,  0.676674 ],\n",
       "       [-2.1921652, -1.755266 ],\n",
       "       [ 0.3332448,  0.108294 ],\n",
       "       [ 0.4317348,  1.022834 ],\n",
       "       [-0.8099652, -0.565946 ],\n",
       "       [-0.9557252, -1.024016 ],\n",
       "       [ 0.6200848,  0.876984 ],\n",
       "       [-1.0254752, -1.702556 ],\n",
       "       [-0.0175052,  0.404934 ],\n",
       "       [-2.8090352, -2.124116 ],\n",
       "       [-2.0703152,  0.068274 ],\n",
       "       [-0.0340152, -0.497476 ],\n",
       "       [ 1.1286848,  1.082264 ]])"
      ]
     },
     "execution_count": 11,
     "metadata": {},
     "output_type": "execute_result"
    }
   ],
   "source": [
    "(feature0- feature0.mean(axis=0) )"
   ]
  },
  {
   "cell_type": "code",
   "execution_count": 45,
   "metadata": {},
   "outputs": [
    {
     "data": {
      "text/plain": [
       "array([[-0.5233151 , -1.59279489],\n",
       "       [ 0.46381907,  0.84034673],\n",
       "       [-1.14839444, -0.58316356],\n",
       "       [-1.0540573 , -1.27072124],\n",
       "       [-0.98402134, -0.8165806 ],\n",
       "       [-0.0849036 ,  1.46633237],\n",
       "       [-0.4421533 , -1.35221189],\n",
       "       [ 1.65512791,  1.65623047],\n",
       "       [-0.05199109,  0.09440519],\n",
       "       [ 0.49306315,  0.61245716],\n",
       "       [ 0.50359481,  0.38972985],\n",
       "       [ 0.32935312,  0.45242712],\n",
       "       [ 0.17431471, -0.04749279],\n",
       "       [ 1.08057125, -0.33689517],\n",
       "       [-0.99325269, -1.21879266],\n",
       "       [ 1.41742932,  1.29234548],\n",
       "       [ 0.60026562,  0.65385394],\n",
       "       [-0.98061987, -0.37147145],\n",
       "       [ 0.96523968,  2.32982142],\n",
       "       [ 1.02758572, -0.35168114],\n",
       "       [ 1.47948257,  1.65649698],\n",
       "       [-0.3527074 , -0.1974352 ],\n",
       "       [ 1.42096858,  1.10315805],\n",
       "       [ 0.23612685, -0.30931705],\n",
       "       [-1.25100707, -1.10383121],\n",
       "       [-0.65914163, -0.05946567],\n",
       "       [ 0.80965876,  0.93988062],\n",
       "       [ 1.55322141,  0.10421644],\n",
       "       [-1.00960561, -0.18146477],\n",
       "       [-0.08649669,  0.09630032],\n",
       "       [-0.55632233,  0.87867379],\n",
       "       [ 1.62794193,  0.51189675],\n",
       "       [-0.76240011, -1.13086645],\n",
       "       [ 1.15585151, -0.3178945 ],\n",
       "       [-0.52859385, -0.43176032],\n",
       "       [ 0.678069  ,  1.2353336 ],\n",
       "       [-1.1311115 , -1.25536277],\n",
       "       [ 1.30118495,  0.6679095 ],\n",
       "       [-1.88774615, -1.73253123],\n",
       "       [ 0.28696815,  0.10689134],\n",
       "       [ 0.37178115,  1.00958593],\n",
       "       [-0.69748789, -0.55861569],\n",
       "       [-0.82300666, -1.01075262],\n",
       "       [ 0.53397558,  0.86562502],\n",
       "       [-0.8830707 , -1.68050395],\n",
       "       [-0.01507431,  0.39968917],\n",
       "       [-2.41895336, -2.09660377],\n",
       "       [-1.78281708,  0.06738969],\n",
       "       [-0.02929162, -0.49103253],\n",
       "       [ 0.97194791,  1.06824617]])"
      ]
     },
     "execution_count": 45,
     "metadata": {},
     "output_type": "execute_result"
    }
   ],
   "source": [
    "feature_nor = (feature0- feature0.mean(axis=0) )/np.std(feature0,axis=0)\n",
    "feature_nor"
   ]
  },
  {
   "cell_type": "code",
   "execution_count": 15,
   "metadata": {},
   "outputs": [],
   "source": [
    "def normalize(feature):\n",
    "\n",
    "    # ++++++++++++++++++++++++++++++++++++++++++++++++++\n",
    "    # complete the blanks\n",
    "    # mean을 구해서 빼고 standard deviation으로 나누어주는\n",
    "\n",
    "    feature_normalize = (feature-feature.mean(axis=0))/np.std(feature,axis=0)\n",
    "\n",
    "    #\n",
    "    # ++++++++++++++++++++++++++++++++++++++++++++++++++\n",
    "    \n",
    "    return feature_normalize\n",
    "    #feature_noramlize.shape = (50,2)"
   ]
  },
  {
   "cell_type": "code",
   "execution_count": 46,
   "metadata": {},
   "outputs": [
    {
     "data": {
      "text/plain": [
       "array([[-0.5233151 , -1.59279489],\n",
       "       [ 0.46381907,  0.84034673],\n",
       "       [-1.14839444, -0.58316356],\n",
       "       [-1.0540573 , -1.27072124],\n",
       "       [-0.98402134, -0.8165806 ],\n",
       "       [-0.0849036 ,  1.46633237],\n",
       "       [-0.4421533 , -1.35221189],\n",
       "       [ 1.65512791,  1.65623047],\n",
       "       [-0.05199109,  0.09440519],\n",
       "       [ 0.49306315,  0.61245716],\n",
       "       [ 0.50359481,  0.38972985],\n",
       "       [ 0.32935312,  0.45242712],\n",
       "       [ 0.17431471, -0.04749279],\n",
       "       [ 1.08057125, -0.33689517],\n",
       "       [-0.99325269, -1.21879266],\n",
       "       [ 1.41742932,  1.29234548],\n",
       "       [ 0.60026562,  0.65385394],\n",
       "       [-0.98061987, -0.37147145],\n",
       "       [ 0.96523968,  2.32982142],\n",
       "       [ 1.02758572, -0.35168114],\n",
       "       [ 1.47948257,  1.65649698],\n",
       "       [-0.3527074 , -0.1974352 ],\n",
       "       [ 1.42096858,  1.10315805],\n",
       "       [ 0.23612685, -0.30931705],\n",
       "       [-1.25100707, -1.10383121],\n",
       "       [-0.65914163, -0.05946567],\n",
       "       [ 0.80965876,  0.93988062],\n",
       "       [ 1.55322141,  0.10421644],\n",
       "       [-1.00960561, -0.18146477],\n",
       "       [-0.08649669,  0.09630032],\n",
       "       [-0.55632233,  0.87867379],\n",
       "       [ 1.62794193,  0.51189675],\n",
       "       [-0.76240011, -1.13086645],\n",
       "       [ 1.15585151, -0.3178945 ],\n",
       "       [-0.52859385, -0.43176032],\n",
       "       [ 0.678069  ,  1.2353336 ],\n",
       "       [-1.1311115 , -1.25536277],\n",
       "       [ 1.30118495,  0.6679095 ],\n",
       "       [-1.88774615, -1.73253123],\n",
       "       [ 0.28696815,  0.10689134],\n",
       "       [ 0.37178115,  1.00958593],\n",
       "       [-0.69748789, -0.55861569],\n",
       "       [-0.82300666, -1.01075262],\n",
       "       [ 0.53397558,  0.86562502],\n",
       "       [-0.8830707 , -1.68050395],\n",
       "       [-0.01507431,  0.39968917],\n",
       "       [-2.41895336, -2.09660377],\n",
       "       [-1.78281708,  0.06738969],\n",
       "       [-0.02929162, -0.49103253],\n",
       "       [ 0.97194791,  1.06824617]])"
      ]
     },
     "execution_count": 46,
     "metadata": {},
     "output_type": "execute_result"
    }
   ],
   "source": [
    "normalize(feature0)"
   ]
  },
  {
   "cell_type": "code",
   "execution_count": 16,
   "metadata": {},
   "outputs": [],
   "source": [
    "feature = normalize(feature0)\n",
    "\n",
    "x   = feature[:, 0]\n",
    "y   = feature[:, 1]\n",
    "\n",
    "min_x = np.min(x)\n",
    "min_y = np.min(y)\n",
    "\n",
    "max_x = np.max(x)\n",
    "max_y = np.max(y)"
   ]
  },
  {
   "cell_type": "markdown",
   "metadata": {},
   "source": [
    "## compute covariance matrix\n",
    "- shape of feature = $n \\times m$ where $n$ is the number of data and $m$ is the dimension of features"
   ]
  },
  {
   "cell_type": "code",
   "execution_count": 21,
   "metadata": {},
   "outputs": [],
   "source": [
    "T_feature = np.transpose(feature0)\n"
   ]
  },
  {
   "cell_type": "code",
   "execution_count": 42,
   "metadata": {},
   "outputs": [],
   "source": [
    "val = np.matmul(T_feature, feature0)"
   ]
  },
  {
   "cell_type": "code",
   "execution_count": 23,
   "metadata": {},
   "outputs": [
    {
     "data": {
      "text/plain": [
       "50"
      ]
     },
     "execution_count": 23,
     "metadata": {},
     "output_type": "execute_result"
    }
   ],
   "source": [
    "feature.shape[0]"
   ]
  },
  {
   "cell_type": "code",
   "execution_count": 43,
   "metadata": {},
   "outputs": [
    {
     "data": {
      "text/plain": [
       "array([[17.26276298, 20.82287017],\n",
       "       [20.82287017, 26.05448463]])"
      ]
     },
     "execution_count": 43,
     "metadata": {},
     "output_type": "execute_result"
    }
   ],
   "source": [
    "1/len(feature0)*val"
   ]
  },
  {
   "cell_type": "code",
   "execution_count": 24,
   "metadata": {},
   "outputs": [],
   "source": [
    "def compute_covariance(feature):\n",
    "\n",
    "    # ++++++++++++++++++++++++++++++++++++++++++++++++++\n",
    "    # complete the blanks\n",
    "    #\n",
    "\n",
    "    Sigma = (np.matmul(np.transpose(feature),feature) ) / feature.shape[0]\n",
    "\n",
    "    #\n",
    "    # ++++++++++++++++++++++++++++++++++++++++++++++++++\n",
    "\n",
    "    return Sigma"
   ]
  },
  {
   "cell_type": "code",
   "execution_count": 49,
   "metadata": {},
   "outputs": [
    {
     "data": {
      "text/plain": [
       "array([[1.     , 0.73553],\n",
       "       [0.73553, 1.     ]])"
      ]
     },
     "execution_count": 49,
     "metadata": {},
     "output_type": "execute_result"
    }
   ],
   "source": [
    "compute_covariance(normalize(feature0))"
   ]
  },
  {
   "cell_type": "markdown",
   "metadata": {},
   "source": [
    "## compute principal components\n",
    "- `np.linalg.eig`\n",
    "- `argsort()`\n",
    "- return the eigenvalues and the eigenvectors in a decreasing order according to the eigenvalues"
   ]
  },
  {
   "cell_type": "code",
   "execution_count": 52,
   "metadata": {},
   "outputs": [
    {
     "name": "stdout",
     "output_type": "stream",
     "text": [
      "eigenValue :  [1.73553 0.26447]\n",
      "eigenVector :  [[ 0.70710678 -0.70710678]\n",
      " [ 0.70710678  0.70710678]]\n",
      "Sorted EigenValue :  [1 0]\n"
     ]
    }
   ],
   "source": [
    "eigenValue , eigenVector =np.linalg.eig(compute_covariance(normalize(feature0)))\n",
    "index_sorted_eigenValue = eigenValue.argsort()\n",
    "print(\"eigenValue : \",eigenValue)\n",
    "print(\"eigenVector : \" ,eigenVector)\n",
    "print(\"Sorted EigenValue : \", sorted_eigenValue)"
   ]
  },
  {
   "cell_type": "code",
   "execution_count": 69,
   "metadata": {},
   "outputs": [
    {
     "name": "stdout",
     "output_type": "stream",
     "text": [
      "first value :  1.7355300038440322\n",
      "first vector :  [0.70710678 0.70710678]\n",
      "principal component 1 :  [ 1.22720503 -0.18700853]\n",
      "second value :  0.2644699961559673\n",
      "second vector :  [-0.70710678  0.70710678]\n",
      "principal component 2 :  [1.22720503 0.18700853]\n"
     ]
    }
   ],
   "source": [
    "first_value = eigenValue[index_sorted_eigenValue[-1]]\n",
    "first_vector = eigenVector[:,index_sorted_eigenValue[-1]]\n",
    "\n",
    "second_value = eigenValue[index_sorted_eigenValue[-2]]\n",
    "second_vector = eigenVector[:,index_sorted_eigenValue[-2]]\n",
    "\n",
    "principal_component =  np.c_[first_vector*first_value, second_vector*second_value]\n",
    "\n",
    "\n",
    "print(\"first value : \", first_value)\n",
    "print(\"first vector : \", first_vector)\n",
    "print(\"principal component 1 : \", principal_component[0])\n",
    "\n",
    "print(\"second value : \", second_value)\n",
    "print(\"second vector : \", second_vector)\n",
    "print(\"principal component 2 : \", principal_component[1])\n",
    "\n"
   ]
  },
  {
   "cell_type": "code",
   "execution_count": 108,
   "metadata": {},
   "outputs": [],
   "source": [
    "def compute_principal_component(feature):\n",
    "\n",
    "    # ++++++++++++++++++++++++++++++++++++++++++++++++++\n",
    "    # complete the blanks\n",
    "    # covarince matrix 의 eigenvalue, eigenvector 를 구해야하는 것이다.\n",
    "    # lambda : eigenvalue, u : eigenvector\n",
    "    # 둘을 곱한 것이 p\n",
    "    # eigenvalue 가 가장 큰 것이 principal_component1, 두번째로 큰 것이 2\n",
    "\n",
    "    feature = compute_covariance(normalize(feature))\n",
    "    eigenValue , eigenVector =np.linalg.eig(feature) \n",
    "    index_sorted_eigenValue = eigenValue.argsort() #index 값 반환\n",
    "    \n",
    "    first_value = eigenValue[index_sorted_eigenValue[-1]]\n",
    "    first_vector = eigenVector[:,index_sorted_eigenValue[-1]]\n",
    "\n",
    "    second_value = eigenValue[index_sorted_eigenValue[-2]]\n",
    "    second_vector = eigenVector[:,index_sorted_eigenValue[-2]]\n",
    "\n",
    "    principal_component_1 = first_vector*first_value\n",
    "    principal_component_2 = second_vector*second_value\n",
    "    #\n",
    "    # ++++++++++++++++++++++++++++++++++++++++++++++++++\n",
    "     \n",
    "    return (principal_component_1, principal_component_2)"
   ]
  },
  {
   "cell_type": "code",
   "execution_count": 109,
   "metadata": {},
   "outputs": [
    {
     "data": {
      "text/plain": [
       "(array([1.22720503, 1.22720503]), array([-0.18700853,  0.18700853]))"
      ]
     },
     "execution_count": 109,
     "metadata": {},
     "output_type": "execute_result"
    }
   ],
   "source": [
    "compute_principal_component(feature0)"
   ]
  },
  {
   "cell_type": "markdown",
   "metadata": {},
   "source": [
    "## compute the projection of point onto the axis\n",
    "- `np.matmul`\n",
    "- `np.dot`\n",
    "- shape of feature = $n \\times m$ where $n$ is the number of data and $m$ is the dimension of features\n",
    "- shape of vector = $m \\times 1$ where $m$ is the dimension of features"
   ]
  },
  {
   "cell_type": "code",
   "execution_count": 110,
   "metadata": {},
   "outputs": [],
   "source": [
    "def compute_projection_onto_line(feature, vector):\n",
    "\n",
    "    # ++++++++++++++++++++++++++++++++++++++++++++++++++\n",
    "    # complete the blanks\n",
    "    # line 위에 projection한 점들 (x,y)\n",
    "    vector_norm = sum(vector**2)\n",
    "    normal_vector = vector/np.sqrt(vector_norm)\n",
    "\n",
    "    proj_onto_normal_vector = np.dot(feature,vector)/np.sqrt(vector_norm)\n",
    "    projection= proj_onto_normal_vector[:, None]*normal_vector\n",
    "    #\n",
    "    # ++++++++++++++++++++++++++++++++++++++++++++++++++\n",
    "\n",
    "    return projection"
   ]
  },
  {
   "cell_type": "code",
   "execution_count": 112,
   "metadata": {},
   "outputs": [
    {
     "data": {
      "text/plain": [
       "array([[ 2.80008608, -0.42669314],\n",
       "       [ 3.5532745 , -0.54146831],\n",
       "       [ 1.93834462, -0.29537605],\n",
       "       [ 2.14914831, -0.32749952],\n",
       "       [ 2.16011106, -0.32917009],\n",
       "       [ 2.83607584, -0.43217747],\n",
       "       [ 2.85589756, -0.43519802],\n",
       "       [ 4.78219668, -0.7287385 ],\n",
       "       [ 3.08042715, -0.46941312],\n",
       "       [ 3.62084816, -0.55176557],\n",
       "       [ 3.66640608, -0.55870795],\n",
       "       [ 3.4591982 , -0.52713242],\n",
       "       [ 3.35867286, -0.5118138 ],\n",
       "       [ 4.43085478, -0.67519901],\n",
       "       [ 2.21032078, -0.33682133],\n",
       "       [ 4.5673346 , -0.69599659],\n",
       "       [ 3.73626692, -0.56935374],\n",
       "       [ 2.0968126 , -0.31952431],\n",
       "       [ 3.89760555, -0.59393944],\n",
       "       [ 4.3729521 , -0.66637547],\n",
       "       [ 4.58281545, -0.69835565],\n",
       "       [ 2.78317563, -0.42411623],\n",
       "       [ 4.59989625, -0.70095852],\n",
       "       [ 3.46832834, -0.52852373],\n",
       "       [ 1.9004481 , -0.28960116],\n",
       "       [ 2.41458437, -0.36794819],\n",
       "       [ 3.93075236, -0.59899054],\n",
       "       [ 4.90071283, -0.74679867],\n",
       "       [ 2.03524797, -0.31014273],\n",
       "       [ 3.04098057, -0.46340203],\n",
       "       [ 2.38972659, -0.36416022],\n",
       "       [ 4.92400215, -0.75034763],\n",
       "       [ 2.45905041, -0.37472418],\n",
       "       [ 4.51342398, -0.68778138],\n",
       "       [ 2.61891634, -0.39908546],\n",
       "       [ 3.73683185, -0.56943983],\n",
       "       [ 2.05938169, -0.31382037],\n",
       "       [ 4.52962408, -0.69025004],\n",
       "       [ 1.27266812, -0.19393645],\n",
       "       [ 3.46323024, -0.52774685],\n",
       "       [ 3.42328499, -0.52165976],\n",
       "       [ 2.44637754, -0.37279301],\n",
       "       [ 2.37214466, -0.36148098],\n",
       "       [ 3.62908156, -0.55302022],\n",
       "       [ 2.40503081, -0.36649236],\n",
       "       [ 3.07626248, -0.46877848],\n",
       "       [ 0.7247295 , -0.11043843],\n",
       "       [ 1.1201777 , -0.17069909],\n",
       "       [ 3.19452075, -0.48679936],\n",
       "       [ 4.09556736, -0.624106  ]])"
      ]
     },
     "execution_count": 112,
     "metadata": {},
     "output_type": "execute_result"
    }
   ],
   "source": [
    "principal_component_1 = principal_component[0]\n",
    "\n",
    "compute_projection_onto_line(feature0, principal_component_1)"
   ]
  },
  {
   "cell_type": "markdown",
   "metadata": {},
   "source": [
    "## compute the principal components and the projection of feature"
   ]
  },
  {
   "cell_type": "code",
   "execution_count": 113,
   "metadata": {},
   "outputs": [],
   "source": [
    "\n",
    "(principal_component_1, principal_component_2) = compute_principal_component(feature)\n",
    "\n",
    "projection1 = compute_projection_onto_line(feature, principal_component_1)\n",
    "projection2 = compute_projection_onto_line(feature, principal_component_2)"
   ]
  },
  {
   "cell_type": "markdown",
   "metadata": {},
   "source": [
    "---"
   ]
  },
  {
   "cell_type": "markdown",
   "metadata": {},
   "source": [
    "---"
   ]
  },
  {
   "cell_type": "markdown",
   "metadata": {},
   "source": [
    "## functions for presenting the results"
   ]
  },
  {
   "cell_type": "markdown",
   "metadata": {},
   "source": [
    "---"
   ]
  },
  {
   "cell_type": "markdown",
   "metadata": {},
   "source": [
    "---"
   ]
  },
  {
   "cell_type": "code",
   "execution_count": 114,
   "metadata": {},
   "outputs": [],
   "source": [
    "def function_result_01():\n",
    "   \n",
    "    plt.figure(figsize=(8,8))\n",
    "    plt.title('data normalized by z-scoring')\n",
    "    plt.scatter(x, y, color='blue')\n",
    "\n",
    "    plt.xlim(min_x - 0.5, max_x + 0.5)\n",
    "    plt.ylim(min_y - 0.5, max_y + 0.5)\n",
    "\n",
    "    plt.tight_layout()\n",
    "    plt.show()"
   ]
  },
  {
   "cell_type": "code",
   "execution_count": 128,
   "metadata": {},
   "outputs": [],
   "source": [
    "def function_result_02():\n",
    "\n",
    "    plt.figure(figsize=(8,8))\n",
    "    plt.title('principal components')\n",
    "\n",
    "    # ++++++++++++++++++++++++++++++++++++++++++++++++++\n",
    "    # complete the blanks\n",
    "    #\n",
    "\n",
    "    plt.scatter(x, y, color='blue')\n",
    "\n",
    "    plt.arrow(0,0,principal_component_1[0],principal_component_1[1], width = 0.05, color='red')\n",
    "    plt.arrow(0,0,principal_component_2[0],principal_component_2[1], width = 0.05, color='green')\n",
    "\n",
    "\n",
    "    #\n",
    "    # ++++++++++++++++++++++++++++++++++++++++++++++++++\n",
    "\n",
    "    plt.xlim(min_x - 0.5, max_x + 0.5)\n",
    "    plt.ylim(min_y - 0.5, max_y + 0.5)\n",
    "\n",
    "    plt.tight_layout()\n",
    "    plt.show()"
   ]
  },
  {
   "cell_type": "code",
   "execution_count": 116,
   "metadata": {},
   "outputs": [],
   "source": [
    "def function_result_03():\n",
    "\n",
    "    plt.figure(figsize=(8,8))\n",
    "    plt.title('first principle axis')\n",
    "\n",
    "    # ++++++++++++++++++++++++++++++++++++++++++++++++++\n",
    "    # complete the blanks\n",
    "    #\n",
    "    plt.axline((0,0),principal_component_1)\n",
    "\n",
    "\n",
    "\n",
    "    #\n",
    "    # ++++++++++++++++++++++++++++++++++++++++++++++++++\n",
    "\n",
    "    plt.xlim(min_x - 0.5, max_x + 0.5)\n",
    "    plt.ylim(min_y - 0.5, max_y + 0.5)\n",
    "\n",
    "    plt.tight_layout()\n",
    "    plt.show()"
   ]
  },
  {
   "cell_type": "code",
   "execution_count": 117,
   "metadata": {},
   "outputs": [],
   "source": [
    "def function_result_04():\n",
    "\n",
    "    plt.figure(figsize=(8,8))\n",
    "    plt.title('second principle axis')\n",
    "\n",
    "    # ++++++++++++++++++++++++++++++++++++++++++++++++++\n",
    "    # complete the blanks\n",
    "    #\n",
    "\n",
    "\n",
    "\n",
    "    #\n",
    "    # ++++++++++++++++++++++++++++++++++++++++++++++++++\n",
    "\n",
    "    plt.xlim(min_x - 0.5, max_x + 0.5)\n",
    "    plt.ylim(min_y - 0.5, max_y + 0.5)\n",
    "\n",
    "    plt.tight_layout()\n",
    "    plt.show()"
   ]
  },
  {
   "cell_type": "code",
   "execution_count": 118,
   "metadata": {},
   "outputs": [],
   "source": [
    "def function_result_05():\n",
    "\n",
    "    plt.figure(figsize=(8,8))\n",
    "    plt.title('projection onto the first principle axis')\n",
    "\n",
    "    # ++++++++++++++++++++++++++++++++++++++++++++++++++\n",
    "    # complete the blanks\n",
    "    #\n",
    "\n",
    "\n",
    "\n",
    "    #\n",
    "    # ++++++++++++++++++++++++++++++++++++++++++++++++++\n",
    "\n",
    "    plt.xlim(min_x - 0.5, max_x + 0.5)\n",
    "    plt.ylim(min_y - 0.5, max_y + 0.5)\n",
    "\n",
    "    plt.tight_layout()\n",
    "    plt.show()\n"
   ]
  },
  {
   "cell_type": "code",
   "execution_count": 119,
   "metadata": {},
   "outputs": [],
   "source": [
    "def function_result_06():\n",
    "\n",
    "    plt.figure(figsize=(8,8))\n",
    "    plt.title('projection onto the second principle axis')\n",
    "\n",
    "    # ++++++++++++++++++++++++++++++++++++++++++++++++++\n",
    "    # complete the blanks\n",
    "    #\n",
    "\n",
    "\n",
    "\n",
    "    #\n",
    "    # ++++++++++++++++++++++++++++++++++++++++++++++++++\n",
    "\n",
    "    plt.xlim(min_x - 0.5, max_x + 0.5)\n",
    "    plt.ylim(min_y - 0.5, max_y + 0.5)\n",
    "\n",
    "    plt.tight_layout()\n",
    "    plt.show()"
   ]
  },
  {
   "cell_type": "code",
   "execution_count": 120,
   "metadata": {},
   "outputs": [],
   "source": [
    "def function_result_07():\n",
    "\n",
    "    plt.figure(figsize=(8,8))\n",
    "    plt.title('projection onto the first principle axis')\n",
    "\n",
    "    # ++++++++++++++++++++++++++++++++++++++++++++++++++\n",
    "    # complete the blanks\n",
    "    #\n",
    "\n",
    "\n",
    "\n",
    "    #\n",
    "    # ++++++++++++++++++++++++++++++++++++++++++++++++++\n",
    "\n",
    "    plt.xlim(min_x - 0.5, max_x + 0.5)\n",
    "    plt.ylim(min_y - 0.5, max_y + 0.5)\n",
    "\n",
    "    plt.tight_layout()\n",
    "    plt.show()"
   ]
  },
  {
   "cell_type": "code",
   "execution_count": 121,
   "metadata": {},
   "outputs": [],
   "source": [
    "def function_result_08():\n",
    "\n",
    "    plt.figure(figsize=(8,8))\n",
    "    plt.title('projection to the second principle axis')\n",
    "\n",
    "    # ++++++++++++++++++++++++++++++++++++++++++++++++++\n",
    "    # complete the blanks\n",
    "    #\n",
    "\n",
    "\n",
    "\n",
    "    #\n",
    "    # ++++++++++++++++++++++++++++++++++++++++++++++++++\n",
    "\n",
    "    plt.xlim(min_x - 0.5, max_x + 0.5)\n",
    "    plt.ylim(min_y - 0.5, max_y + 0.5)\n",
    "\n",
    "    plt.tight_layout()\n",
    "    plt.show()"
   ]
  },
  {
   "cell_type": "markdown",
   "metadata": {},
   "source": [
    "---"
   ]
  },
  {
   "cell_type": "markdown",
   "metadata": {},
   "source": [
    "---"
   ]
  },
  {
   "cell_type": "markdown",
   "metadata": {},
   "source": [
    "## results"
   ]
  },
  {
   "cell_type": "markdown",
   "metadata": {},
   "source": [
    "---"
   ]
  },
  {
   "cell_type": "markdown",
   "metadata": {},
   "source": [
    "---"
   ]
  },
  {
   "cell_type": "code",
   "execution_count": 127,
   "metadata": {},
   "outputs": [
    {
     "name": "stdout",
     "output_type": "stream",
     "text": [
      "**************************************************\n",
      "## [RESULT 01]\n",
      "**************************************************\n"
     ]
    },
    {
     "data": {
      "image/png": "[encoded data removed]",
      "text/plain": [
       "<Figure size 576x576 with 1 Axes>"
      ]
     },
     "metadata": {
      "needs_background": "light"
     },
     "output_type": "display_data"
    },
    {
     "name": "stdout",
     "output_type": "stream",
     "text": [
      "**************************************************\n",
      "## [RESULT 02]\n",
      "**************************************************\n"
     ]
    },
    {
     "data": {
      "image/png": "[encoded data removed]",
      "text/plain": [
       "<Figure size 576x576 with 1 Axes>"
      ]
     },
     "metadata": {
      "needs_background": "light"
     },
     "output_type": "display_data"
    },
    {
     "name": "stdout",
     "output_type": "stream",
     "text": [
      "**************************************************\n",
      "## [RESULT 03]\n",
      "**************************************************\n"
     ]
    },
    {
     "data": {
      "image/png": "[encoded data removed]",
      "text/plain": [
       "<Figure size 576x576 with 1 Axes>"
      ]
     },
     "metadata": {
      "needs_background": "light"
     },
     "output_type": "display_data"
    },
    {
     "name": "stdout",
     "output_type": "stream",
     "text": [
      "**************************************************\n",
      "## [RESULT 04]\n",
      "**************************************************\n"
     ]
    },
    {
     "data": {
      "image/png": "[encoded data removed]",
      "text/plain": [
       "<Figure size 576x576 with 1 Axes>"
      ]
     },
     "metadata": {
      "needs_background": "light"
     },
     "output_type": "display_data"
    },
    {
     "name": "stdout",
     "output_type": "stream",
     "text": [
      "**************************************************\n",
      "## [RESULT 05]\n",
      "**************************************************\n"
     ]
    },
    {
     "data": {
      "image/png": "[encoded data removed]",
      "text/plain": [
       "<Figure size 576x576 with 1 Axes>"
      ]
     },
     "metadata": {
      "needs_background": "light"
     },
     "output_type": "display_data"
    },
    {
     "name": "stdout",
     "output_type": "stream",
     "text": [
      "**************************************************\n",
      "## [RESULT 06]\n",
      "**************************************************\n"
     ]
    },
    {
     "data": {
      "image/png": "[encoded data removed]",
      "text/plain": [
       "<Figure size 576x576 with 1 Axes>"
      ]
     },
     "metadata": {
      "needs_background": "light"
     },
     "output_type": "display_data"
    },
    {
     "name": "stdout",
     "output_type": "stream",
     "text": [
      "**************************************************\n",
      "## [RESULT 07]\n",
      "**************************************************\n"
     ]
    },
    {
     "data": {
      "image/png": "[encoded data removed]",
      "text/plain": [
       "<Figure size 576x576 with 1 Axes>"
      ]
     },
     "metadata": {
      "needs_background": "light"
     },
     "output_type": "display_data"
    },
    {
     "name": "stdout",
     "output_type": "stream",
     "text": [
      "**************************************************\n",
      "## [RESULT 08]\n",
      "**************************************************\n"
     ]
    },
    {
     "data": {
      "image/png": "[encoded data removed]",
      "text/plain": [
       "<Figure size 576x576 with 1 Axes>"
      ]
     },
     "metadata": {
      "needs_background": "light"
     },
     "output_type": "display_data"
    }
   ],
   "source": [
    "number_result = 8\n",
    "\n",
    "for i in range(number_result):\n",
    "    title = '## [RESULT {:02d}]'.format(i+1)\n",
    "    name_function = 'function_result_{:02d}()'.format(i+1)\n",
    "\n",
    "    print('**************************************************')\n",
    "    print(title)\n",
    "    print('**************************************************')\n",
    "    eval(name_function)"
   ]
  },
  {
   "cell_type": "code",
   "execution_count": null,
   "metadata": {},
   "outputs": [],
   "source": []
  }
 ],
 "metadata": {
  "interpreter": {
   "hash": "40d3a090f54c6569ab1632332b64b2c03c39dcf918b08424e98f38b5ae0af88f"
  },
  "kernelspec": {
   "display_name": "Python 3.8.5",
   "language": "python",
   "name": "python3"
  },
  "language_info": {
   "codemirror_mode": {
    "name": "ipython",
    "version": 3
   },
   "file_extension": ".py",
   "mimetype": "text/x-python",
   "name": "python",
   "nbconvert_exporter": "python",
   "pygments_lexer": "ipython3",
   "version": "3.9.7"
  },
  "metadata": {
   "interpreter": {
    "hash": "aee8b7b246df8f9039afb4144a1f6fd8d2ca17a180786b69acc140d282b71a49"
   }
  }
 },
 "nbformat": 4,
 "nbformat_minor": 1
}
